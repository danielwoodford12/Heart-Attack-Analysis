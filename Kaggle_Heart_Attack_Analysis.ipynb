{
  "cells": [
    {
      "cell_type": "markdown",
      "source": [
        "**Heart Attack and Analysis & Prediction Dataset from Kaggle**"
      ],
      "metadata": {
        "id": "jmOyCbtpoJDD"
      }
    },
    {
      "cell_type": "markdown",
      "source": [
        "**Exploration**"
      ],
      "metadata": {
        "id": "O6M_15swu22F"
      }
    },
    {
      "cell_type": "code",
      "execution_count": null,
      "metadata": {
        "id": "ls9snYjiuEGU"
      },
      "outputs": [],
      "source": [
        "from datascience import *\n",
        "import numpy as np\n",
        "\n",
        "import matplotlib\n",
        "matplotlib.use('Agg')\n",
        "%matplotlib inline\n",
        "import matplotlib.pyplot as plots\n",
        "plots.style.use('fivethirtyeight')"
      ]
    },
    {
      "cell_type": "code",
      "execution_count": null,
      "metadata": {
        "id": "iuADcPDYi8uH"
      },
      "outputs": [],
      "source": [
        "hearts = Table().read_table('heart.csv')"
      ]
    },
    {
      "cell_type": "markdown",
      "source": [
        "First 10 rows"
      ],
      "metadata": {
        "id": "QWpCkql6oVTG"
      }
    },
    {
      "cell_type": "code",
      "execution_count": null,
      "metadata": {
        "colab": {
          "base_uri": "https://localhost:8080/",
          "height": 363
        },
        "id": "s-0wQS0cjp9O",
        "outputId": "e70e655a-cbd6-4c0a-a647-122fea08b425"
      },
      "outputs": [
        {
          "data": {
            "text/html": [
              "<table border=\"1\" class=\"dataframe\">\n",
              "    <thead>\n",
              "        <tr>\n",
              "            <th>age</th> <th>sex</th> <th>cp</th> <th>trtbps</th> <th>chol</th> <th>fbs</th> <th>restecg</th> <th>thalachh</th> <th>exng</th> <th>oldpeak</th> <th>slp</th> <th>caa</th> <th>thall</th> <th>output</th>\n",
              "        </tr>\n",
              "    </thead>\n",
              "    <tbody>\n",
              "        <tr>\n",
              "            <td>63  </td> <td>1   </td> <td>3   </td> <td>145   </td> <td>233 </td> <td>1   </td> <td>0      </td> <td>150     </td> <td>0   </td> <td>2.3    </td> <td>0   </td> <td>0   </td> <td>1    </td> <td>1     </td>\n",
              "        </tr>\n",
              "        <tr>\n",
              "            <td>37  </td> <td>1   </td> <td>2   </td> <td>130   </td> <td>250 </td> <td>0   </td> <td>1      </td> <td>187     </td> <td>0   </td> <td>3.5    </td> <td>0   </td> <td>0   </td> <td>2    </td> <td>1     </td>\n",
              "        </tr>\n",
              "        <tr>\n",
              "            <td>41  </td> <td>0   </td> <td>1   </td> <td>130   </td> <td>204 </td> <td>0   </td> <td>0      </td> <td>172     </td> <td>0   </td> <td>1.4    </td> <td>2   </td> <td>0   </td> <td>2    </td> <td>1     </td>\n",
              "        </tr>\n",
              "        <tr>\n",
              "            <td>56  </td> <td>1   </td> <td>1   </td> <td>120   </td> <td>236 </td> <td>0   </td> <td>1      </td> <td>178     </td> <td>0   </td> <td>0.8    </td> <td>2   </td> <td>0   </td> <td>2    </td> <td>1     </td>\n",
              "        </tr>\n",
              "        <tr>\n",
              "            <td>57  </td> <td>0   </td> <td>0   </td> <td>120   </td> <td>354 </td> <td>0   </td> <td>1      </td> <td>163     </td> <td>1   </td> <td>0.6    </td> <td>2   </td> <td>0   </td> <td>2    </td> <td>1     </td>\n",
              "        </tr>\n",
              "        <tr>\n",
              "            <td>57  </td> <td>1   </td> <td>0   </td> <td>140   </td> <td>192 </td> <td>0   </td> <td>1      </td> <td>148     </td> <td>0   </td> <td>0.4    </td> <td>1   </td> <td>0   </td> <td>1    </td> <td>1     </td>\n",
              "        </tr>\n",
              "        <tr>\n",
              "            <td>56  </td> <td>0   </td> <td>1   </td> <td>140   </td> <td>294 </td> <td>0   </td> <td>0      </td> <td>153     </td> <td>0   </td> <td>1.3    </td> <td>1   </td> <td>0   </td> <td>2    </td> <td>1     </td>\n",
              "        </tr>\n",
              "        <tr>\n",
              "            <td>44  </td> <td>1   </td> <td>1   </td> <td>120   </td> <td>263 </td> <td>0   </td> <td>1      </td> <td>173     </td> <td>0   </td> <td>0      </td> <td>2   </td> <td>0   </td> <td>3    </td> <td>1     </td>\n",
              "        </tr>\n",
              "        <tr>\n",
              "            <td>52  </td> <td>1   </td> <td>2   </td> <td>172   </td> <td>199 </td> <td>1   </td> <td>1      </td> <td>162     </td> <td>0   </td> <td>0.5    </td> <td>2   </td> <td>0   </td> <td>3    </td> <td>1     </td>\n",
              "        </tr>\n",
              "        <tr>\n",
              "            <td>57  </td> <td>1   </td> <td>2   </td> <td>150   </td> <td>168 </td> <td>0   </td> <td>1      </td> <td>174     </td> <td>0   </td> <td>1.6    </td> <td>2   </td> <td>0   </td> <td>2    </td> <td>1     </td>\n",
              "        </tr>\n",
              "    </tbody>\n",
              "</table>"
            ],
            "text/plain": [
              "age  | sex  | cp   | trtbps | chol | fbs  | restecg | thalachh | exng | oldpeak | slp  | caa  | thall | output\n",
              "63   | 1    | 3    | 145    | 233  | 1    | 0       | 150      | 0    | 2.3     | 0    | 0    | 1     | 1\n",
              "37   | 1    | 2    | 130    | 250  | 0    | 1       | 187      | 0    | 3.5     | 0    | 0    | 2     | 1\n",
              "41   | 0    | 1    | 130    | 204  | 0    | 0       | 172      | 0    | 1.4     | 2    | 0    | 2     | 1\n",
              "56   | 1    | 1    | 120    | 236  | 0    | 1       | 178      | 0    | 0.8     | 2    | 0    | 2     | 1\n",
              "57   | 0    | 0    | 120    | 354  | 0    | 1       | 163      | 1    | 0.6     | 2    | 0    | 2     | 1\n",
              "57   | 1    | 0    | 140    | 192  | 0    | 1       | 148      | 0    | 0.4     | 1    | 0    | 1     | 1\n",
              "56   | 0    | 1    | 140    | 294  | 0    | 0       | 153      | 0    | 1.3     | 1    | 0    | 2     | 1\n",
              "44   | 1    | 1    | 120    | 263  | 0    | 1       | 173      | 0    | 0       | 2    | 0    | 3     | 1\n",
              "52   | 1    | 2    | 172    | 199  | 1    | 1       | 162      | 0    | 0.5     | 2    | 0    | 3     | 1\n",
              "57   | 1    | 2    | 150    | 168  | 0    | 1       | 174      | 0    | 1.6     | 2    | 0    | 2     | 1"
            ]
          },
          "execution_count": 5,
          "metadata": {},
          "output_type": "execute_result"
        }
      ],
      "source": [
        "hearts.take(np.arange(0,10))"
      ]
    },
    {
      "cell_type": "markdown",
      "source": [
        "Age vs. Resting Blood Pressure and likelihood of heart attack as output (0 being low risk and 1 being high risk)"
      ],
      "metadata": {
        "id": "3gdWRTy4odHv"
      }
    },
    {
      "cell_type": "code",
      "execution_count": null,
      "metadata": {
        "colab": {
          "base_uri": "https://localhost:8080/",
          "height": 359
        },
        "id": "W2g8eCyCjtrP",
        "outputId": "90617b34-8702-4e0a-9997-29df39069f3e"
      },
      "outputs": [
        {
          "data": {
            "image/png": "[encoded data removed]",
            "text/plain": [
              "<Figure size 360x360 with 1 Axes>"
            ]
          },
          "metadata": {},
          "output_type": "display_data"
        }
      ],
      "source": [
        "hearts.scatter('age', 'trtbps', group='output')"
      ]
    },
    {
      "cell_type": "markdown",
      "source": [
        "**Estimation**"
      ],
      "metadata": {
        "id": "71KUw0e5uYHq"
      }
    },
    {
      "cell_type": "markdown",
      "source": [
        "Statistic Values for cholesterol level"
      ],
      "metadata": {
        "id": "I7hxSvvrowQY"
      }
    },
    {
      "cell_type": "code",
      "execution_count": null,
      "metadata": {
        "colab": {
          "base_uri": "https://localhost:8080/"
        },
        "id": "gUHiXkI93Ncc",
        "outputId": "7b13372c-0fc8-401d-d0b9-eebb2c43b591"
      },
      "outputs": [
        {
          "name": "stdout",
          "output_type": "stream",
          "text": [
            "mean: 246.264026403\n",
            "median: 240.0\n",
            "standard deviation: 51.7451510105\n"
          ]
        }
      ],
      "source": [
        "chol = hearts.column('chol')\n",
        "print('mean:', np.mean(chol))\n",
        "print('median:', np.median(chol))\n",
        "print('standard deviation:', np.std(chol))"
      ]
    },
    {
      "cell_type": "markdown",
      "source": [
        "Cholesterol Histogram"
      ],
      "metadata": {
        "id": "aM0KJauDo80a"
      }
    },
    {
      "cell_type": "code",
      "execution_count": null,
      "metadata": {
        "colab": {
          "base_uri": "https://localhost:8080/",
          "height": 301
        },
        "id": "6MmBHZxcjzTB",
        "outputId": "8afaf087-304e-44ac-e1e2-f19f526e9a72"
      },
      "outputs": [
        {
          "data": {
            "image/png": "[encoded data removed]",
            "text/plain": [
              "<Figure size 432x288 with 1 Axes>"
            ]
          },
          "metadata": {},
          "output_type": "display_data"
        }
      ],
      "source": [
        "hearts.hist('chol', bins=20)"
      ]
    },
    {
      "cell_type": "markdown",
      "source": [
        "Bootstrap with 90% confidence interval of cholesterol means re-sampling 10,000 times"
      ],
      "metadata": {
        "id": "ykTZRAHfpBpj"
      }
    },
    {
      "cell_type": "code",
      "execution_count": null,
      "metadata": {
        "colab": {
          "background_save": true
        },
        "id": "1ModHSg_j0Zp",
        "outputId": "0c7f4678-c10f-4b09-dad0-d690c8cf3e70"
      },
      "outputs": [
        {
          "name": "stdout",
          "output_type": "stream",
          "text": [
            "5th percentile of bootstrap means: 242.62\n",
            "95th percentile of bootstrap means: 250.166\n"
          ]
        },
        {
          "data": {
            "text/html": [
              "<table border=\"1\" class=\"dataframe\">\n",
              "    <thead>\n",
              "        <tr>\n",
              "            <th>Iteration</th> <th>Statistic (Mean)</th>\n",
              "        </tr>\n",
              "    </thead>\n",
              "    <tbody>\n",
              "        <tr>\n",
              "            <td>0        </td> <td>243.914         </td>\n",
              "        </tr>\n",
              "        <tr>\n",
              "            <td>1        </td> <td>246.792         </td>\n",
              "        </tr>\n",
              "        <tr>\n",
              "            <td>2        </td> <td>244.672         </td>\n",
              "        </tr>\n",
              "        <tr>\n",
              "            <td>3        </td> <td>248.674         </td>\n",
              "        </tr>\n",
              "        <tr>\n",
              "            <td>4        </td> <td>244.152         </td>\n",
              "        </tr>\n",
              "        <tr>\n",
              "            <td>5        </td> <td>248.084         </td>\n",
              "        </tr>\n",
              "        <tr>\n",
              "            <td>6        </td> <td>243.076         </td>\n",
              "        </tr>\n",
              "        <tr>\n",
              "            <td>7        </td> <td>246.94          </td>\n",
              "        </tr>\n",
              "        <tr>\n",
              "            <td>8        </td> <td>252.322         </td>\n",
              "        </tr>\n",
              "        <tr>\n",
              "            <td>9        </td> <td>245.17          </td>\n",
              "        </tr>\n",
              "    </tbody>\n",
              "</table>\n",
              "<p>... (9990 rows omitted)</p>"
            ],
            "text/plain": [
              "Iteration | Statistic (Mean)\n",
              "0         | 243.914\n",
              "1         | 246.792\n",
              "2         | 244.672\n",
              "3         | 248.674\n",
              "4         | 244.152\n",
              "5         | 248.084\n",
              "6         | 243.076\n",
              "7         | 246.94\n",
              "8         | 252.322\n",
              "9         | 245.17\n",
              "... (9990 rows omitted)"
            ]
          },
          "execution_count": 9,
          "metadata": {},
          "output_type": "execute_result"
        },
        {
          "data": {
            "image/png": "[encoded data removed]",
            "text/plain": [
              "<Figure size 432x288 with 1 Axes>"
            ]
          },
          "metadata": {},
          "output_type": "display_data"
        }
      ],
      "source": [
        "sample = hearts.sample(10000, with_replacement=True)\n",
        "bootstrap = Table().with_columns('Iteration', make_array(),\n",
        "                                 'Statistic (Mean)', make_array())\n",
        "\n",
        "population_mean = np.mean(hearts.column('chol'))\n",
        "for i in np.arange(10000):\n",
        "  resample = sample.sample(500, with_replacement=True)\n",
        "  statistic = np.mean(resample.column('chol'))\n",
        "  bootstrap.append((i, statistic))\n",
        "\n",
        "means = bootstrap.column('Statistic (Mean)')\n",
        "bootstrap_lower = percentile(5, means)\n",
        "boostrap_higher = percentile(95, means)\n",
        "print(\"5th percentile of bootstrap means:\", bootstrap_lower)\n",
        "print(\"95th percentile of bootstrap means:\", boostrap_higher)\n",
        "\n",
        "bootstrap.hist('Statistic (Mean)', bins = 50)\n",
        "\n",
        "plots.plot((bootstrap_lower, bootstrap_lower), (0, 0.2), color='orange')\n",
        "plots.plot((boostrap_higher, boostrap_higher), (0, 0.2), color='orange')\n",
        "bootstrap"
      ]
    },
    {
      "cell_type": "markdown",
      "source": [
        "**Hypothesis Testing**"
      ],
      "metadata": {
        "id": "NGSJ-HU8uQUs"
      }
    },
    {
      "cell_type": "markdown",
      "source": [
        "Table of patients with ECG results"
      ],
      "metadata": {
        "id": "ypqdQl2KplOx"
      }
    },
    {
      "cell_type": "code",
      "execution_count": null,
      "metadata": {
        "colab": {
          "base_uri": "https://localhost:8080/",
          "height": 392
        },
        "id": "F2fDZqe1AukF",
        "outputId": "653dffce-ad5b-4d7e-8ff5-6c16e0981d62"
      },
      "outputs": [
        {
          "data": {
            "text/html": [
              "<table border=\"1\" class=\"dataframe\">\n",
              "    <thead>\n",
              "        <tr>\n",
              "            <th>age</th> <th>sex</th> <th>cp</th> <th>trtbps</th> <th>chol</th> <th>fbs</th> <th>restecg</th> <th>thalachh</th> <th>exng</th> <th>oldpeak</th> <th>slp</th> <th>caa</th> <th>thall</th> <th>output</th>\n",
              "        </tr>\n",
              "    </thead>\n",
              "    <tbody>\n",
              "        <tr>\n",
              "            <td>63  </td> <td>1   </td> <td>3   </td> <td>145   </td> <td>233 </td> <td>1   </td> <td>0      </td> <td>150     </td> <td>0   </td> <td>2.3    </td> <td>0   </td> <td>0   </td> <td>1    </td> <td>1     </td>\n",
              "        </tr>\n",
              "        <tr>\n",
              "            <td>41  </td> <td>0   </td> <td>1   </td> <td>130   </td> <td>204 </td> <td>0   </td> <td>0      </td> <td>172     </td> <td>0   </td> <td>1.4    </td> <td>2   </td> <td>0   </td> <td>2    </td> <td>1     </td>\n",
              "        </tr>\n",
              "        <tr>\n",
              "            <td>56  </td> <td>0   </td> <td>1   </td> <td>140   </td> <td>294 </td> <td>0   </td> <td>0      </td> <td>153     </td> <td>0   </td> <td>1.3    </td> <td>1   </td> <td>0   </td> <td>2    </td> <td>1     </td>\n",
              "        </tr>\n",
              "        <tr>\n",
              "            <td>64  </td> <td>1   </td> <td>3   </td> <td>110   </td> <td>211 </td> <td>0   </td> <td>0      </td> <td>144     </td> <td>1   </td> <td>1.8    </td> <td>1   </td> <td>0   </td> <td>2    </td> <td>1     </td>\n",
              "        </tr>\n",
              "        <tr>\n",
              "            <td>58  </td> <td>0   </td> <td>3   </td> <td>150   </td> <td>283 </td> <td>1   </td> <td>0      </td> <td>162     </td> <td>0   </td> <td>1      </td> <td>2   </td> <td>0   </td> <td>2    </td> <td>1     </td>\n",
              "        </tr>\n",
              "        <tr>\n",
              "            <td>65  </td> <td>0   </td> <td>2   </td> <td>140   </td> <td>417 </td> <td>1   </td> <td>0      </td> <td>157     </td> <td>0   </td> <td>0.8    </td> <td>2   </td> <td>1   </td> <td>2    </td> <td>1     </td>\n",
              "        </tr>\n",
              "        <tr>\n",
              "            <td>53  </td> <td>1   </td> <td>2   </td> <td>130   </td> <td>197 </td> <td>1   </td> <td>0      </td> <td>152     </td> <td>0   </td> <td>1.2    </td> <td>0   </td> <td>0   </td> <td>2    </td> <td>1     </td>\n",
              "        </tr>\n",
              "        <tr>\n",
              "            <td>44  </td> <td>1   </td> <td>1   </td> <td>130   </td> <td>219 </td> <td>0   </td> <td>0      </td> <td>188     </td> <td>0   </td> <td>0      </td> <td>2   </td> <td>0   </td> <td>2    </td> <td>1     </td>\n",
              "        </tr>\n",
              "        <tr>\n",
              "            <td>54  </td> <td>1   </td> <td>2   </td> <td>125   </td> <td>273 </td> <td>0   </td> <td>0      </td> <td>152     </td> <td>0   </td> <td>0.5    </td> <td>0   </td> <td>1   </td> <td>2    </td> <td>1     </td>\n",
              "        </tr>\n",
              "        <tr>\n",
              "            <td>51  </td> <td>1   </td> <td>3   </td> <td>125   </td> <td>213 </td> <td>0   </td> <td>0      </td> <td>125     </td> <td>1   </td> <td>1.4    </td> <td>2   </td> <td>1   </td> <td>2    </td> <td>1     </td>\n",
              "        </tr>\n",
              "    </tbody>\n",
              "</table>\n",
              "<p>... (137 rows omitted)</p>"
            ],
            "text/plain": [
              "age  | sex  | cp   | trtbps | chol | fbs  | restecg | thalachh | exng | oldpeak | slp  | caa  | thall | output\n",
              "63   | 1    | 3    | 145    | 233  | 1    | 0       | 150      | 0    | 2.3     | 0    | 0    | 1     | 1\n",
              "41   | 0    | 1    | 130    | 204  | 0    | 0       | 172      | 0    | 1.4     | 2    | 0    | 2     | 1\n",
              "56   | 0    | 1    | 140    | 294  | 0    | 0       | 153      | 0    | 1.3     | 1    | 0    | 2     | 1\n",
              "64   | 1    | 3    | 110    | 211  | 0    | 0       | 144      | 1    | 1.8     | 1    | 0    | 2     | 1\n",
              "58   | 0    | 3    | 150    | 283  | 1    | 0       | 162      | 0    | 1       | 2    | 0    | 2     | 1\n",
              "65   | 0    | 2    | 140    | 417  | 1    | 0       | 157      | 0    | 0.8     | 2    | 1    | 2     | 1\n",
              "53   | 1    | 2    | 130    | 197  | 1    | 0       | 152      | 0    | 1.2     | 0    | 0    | 2     | 1\n",
              "44   | 1    | 1    | 130    | 219  | 0    | 0       | 188      | 0    | 0       | 2    | 0    | 2     | 1\n",
              "54   | 1    | 2    | 125    | 273  | 0    | 0       | 152      | 0    | 0.5     | 0    | 1    | 2     | 1\n",
              "51   | 1    | 3    | 125    | 213  | 0    | 0       | 125      | 1    | 1.4     | 2    | 1    | 2     | 1\n",
              "... (137 rows omitted)"
            ]
          },
          "execution_count": 9,
          "metadata": {},
          "output_type": "execute_result"
        }
      ],
      "source": [
        "restecg_norm = hearts.where('restecg', 0)\n",
        "restecg_abnorm = hearts.where('restecg' ,1)\n",
        "restecg_abnorm = restecg_abnorm.append(hearts.where('restecg', 2))\n",
        "restecg_norm"
      ]
    },
    {
      "cell_type": "markdown",
      "source": [
        "Table of patients with abnormal ECG results"
      ],
      "metadata": {
        "id": "YKuBrBJQpu2r"
      }
    },
    {
      "cell_type": "code",
      "execution_count": null,
      "metadata": {
        "colab": {
          "base_uri": "https://localhost:8080/",
          "height": 392
        },
        "id": "RJcz39P_mr8V",
        "outputId": "49e0215b-1d16-4abe-e880-d5fb002ab2ea"
      },
      "outputs": [
        {
          "data": {
            "text/html": [
              "<table border=\"1\" class=\"dataframe\">\n",
              "    <thead>\n",
              "        <tr>\n",
              "            <th>age</th> <th>sex</th> <th>cp</th> <th>trtbps</th> <th>chol</th> <th>fbs</th> <th>restecg</th> <th>thalachh</th> <th>exng</th> <th>oldpeak</th> <th>slp</th> <th>caa</th> <th>thall</th> <th>output</th>\n",
              "        </tr>\n",
              "    </thead>\n",
              "    <tbody>\n",
              "        <tr>\n",
              "            <td>37  </td> <td>1   </td> <td>2   </td> <td>130   </td> <td>250 </td> <td>0   </td> <td>1      </td> <td>187     </td> <td>0   </td> <td>3.5    </td> <td>0   </td> <td>0   </td> <td>2    </td> <td>1     </td>\n",
              "        </tr>\n",
              "        <tr>\n",
              "            <td>56  </td> <td>1   </td> <td>1   </td> <td>120   </td> <td>236 </td> <td>0   </td> <td>1      </td> <td>178     </td> <td>0   </td> <td>0.8    </td> <td>2   </td> <td>0   </td> <td>2    </td> <td>1     </td>\n",
              "        </tr>\n",
              "        <tr>\n",
              "            <td>57  </td> <td>0   </td> <td>0   </td> <td>120   </td> <td>354 </td> <td>0   </td> <td>1      </td> <td>163     </td> <td>1   </td> <td>0.6    </td> <td>2   </td> <td>0   </td> <td>2    </td> <td>1     </td>\n",
              "        </tr>\n",
              "        <tr>\n",
              "            <td>57  </td> <td>1   </td> <td>0   </td> <td>140   </td> <td>192 </td> <td>0   </td> <td>1      </td> <td>148     </td> <td>0   </td> <td>0.4    </td> <td>1   </td> <td>0   </td> <td>1    </td> <td>1     </td>\n",
              "        </tr>\n",
              "        <tr>\n",
              "            <td>44  </td> <td>1   </td> <td>1   </td> <td>120   </td> <td>263 </td> <td>0   </td> <td>1      </td> <td>173     </td> <td>0   </td> <td>0      </td> <td>2   </td> <td>0   </td> <td>3    </td> <td>1     </td>\n",
              "        </tr>\n",
              "        <tr>\n",
              "            <td>52  </td> <td>1   </td> <td>2   </td> <td>172   </td> <td>199 </td> <td>1   </td> <td>1      </td> <td>162     </td> <td>0   </td> <td>0.5    </td> <td>2   </td> <td>0   </td> <td>3    </td> <td>1     </td>\n",
              "        </tr>\n",
              "        <tr>\n",
              "            <td>57  </td> <td>1   </td> <td>2   </td> <td>150   </td> <td>168 </td> <td>0   </td> <td>1      </td> <td>174     </td> <td>0   </td> <td>1.6    </td> <td>2   </td> <td>0   </td> <td>2    </td> <td>1     </td>\n",
              "        </tr>\n",
              "        <tr>\n",
              "            <td>54  </td> <td>1   </td> <td>0   </td> <td>140   </td> <td>239 </td> <td>0   </td> <td>1      </td> <td>160     </td> <td>0   </td> <td>1.2    </td> <td>2   </td> <td>0   </td> <td>2    </td> <td>1     </td>\n",
              "        </tr>\n",
              "        <tr>\n",
              "            <td>48  </td> <td>0   </td> <td>2   </td> <td>130   </td> <td>275 </td> <td>0   </td> <td>1      </td> <td>139     </td> <td>0   </td> <td>0.2    </td> <td>2   </td> <td>0   </td> <td>2    </td> <td>1     </td>\n",
              "        </tr>\n",
              "        <tr>\n",
              "            <td>49  </td> <td>1   </td> <td>1   </td> <td>130   </td> <td>266 </td> <td>0   </td> <td>1      </td> <td>171     </td> <td>0   </td> <td>0.6    </td> <td>2   </td> <td>0   </td> <td>2    </td> <td>1     </td>\n",
              "        </tr>\n",
              "    </tbody>\n",
              "</table>\n",
              "<p>... (146 rows omitted)</p>"
            ],
            "text/plain": [
              "age  | sex  | cp   | trtbps | chol | fbs  | restecg | thalachh | exng | oldpeak | slp  | caa  | thall | output\n",
              "37   | 1    | 2    | 130    | 250  | 0    | 1       | 187      | 0    | 3.5     | 0    | 0    | 2     | 1\n",
              "56   | 1    | 1    | 120    | 236  | 0    | 1       | 178      | 0    | 0.8     | 2    | 0    | 2     | 1\n",
              "57   | 0    | 0    | 120    | 354  | 0    | 1       | 163      | 1    | 0.6     | 2    | 0    | 2     | 1\n",
              "57   | 1    | 0    | 140    | 192  | 0    | 1       | 148      | 0    | 0.4     | 1    | 0    | 1     | 1\n",
              "44   | 1    | 1    | 120    | 263  | 0    | 1       | 173      | 0    | 0       | 2    | 0    | 3     | 1\n",
              "52   | 1    | 2    | 172    | 199  | 1    | 1       | 162      | 0    | 0.5     | 2    | 0    | 3     | 1\n",
              "57   | 1    | 2    | 150    | 168  | 0    | 1       | 174      | 0    | 1.6     | 2    | 0    | 2     | 1\n",
              "54   | 1    | 0    | 140    | 239  | 0    | 1       | 160      | 0    | 1.2     | 2    | 0    | 2     | 1\n",
              "48   | 0    | 2    | 130    | 275  | 0    | 1       | 139      | 0    | 0.2     | 2    | 0    | 2     | 1\n",
              "49   | 1    | 1    | 130    | 266  | 0    | 1       | 171      | 0    | 0.6     | 2    | 0    | 2     | 1\n",
              "... (146 rows omitted)"
            ]
          },
          "execution_count": 10,
          "metadata": {},
          "output_type": "execute_result"
        }
      ],
      "source": [
        "restecg_abnorm"
      ]
    },
    {
      "cell_type": "markdown",
      "source": [
        "Fraction of people likely to have a heart attack of normal and abnormal ECG results groups"
      ],
      "metadata": {
        "id": "2BUK03hCp7G6"
      }
    },
    {
      "cell_type": "code",
      "execution_count": null,
      "metadata": {
        "colab": {
          "base_uri": "https://localhost:8080/"
        },
        "id": "fvbzSOzHmr8W",
        "outputId": "41af6f62-15bb-4595-c1cd-c1341ec5152e"
      },
      "outputs": [
        {
          "name": "stdout",
          "output_type": "stream",
          "text": [
            "normal mean: 0.462585034014\n",
            "abnormal mean: 0.621794871795\n"
          ]
        }
      ],
      "source": [
        "normal_mean = np.mean(restecg_norm.column('output'))\n",
        "abnormal_mean = np.mean(restecg_abnorm.column('output'))\n",
        "print('normal mean:', normal_mean)\n",
        "print('abnormal mean:', abnormal_mean)"
      ]
    },
    {
      "cell_type": "markdown",
      "source": [
        "Hypothesis test to see if ECG results and likelood of heart attack are related"
      ],
      "metadata": {
        "id": "Xrbm_y3FqW2H"
      }
    },
    {
      "cell_type": "code",
      "execution_count": null,
      "metadata": {
        "colab": {
          "base_uri": "https://localhost:8080/",
          "height": 337
        },
        "id": "tupCjSEsmr8X",
        "outputId": "58851f9a-848b-46d9-8212-bd4a4650bb0e"
      },
      "outputs": [
        {
          "name": "stdout",
          "output_type": "stream",
          "text": [
            "Observed value of the test statistic: 0.159209837781\n",
            "p-value of test: 0.0059\n"
          ]
        },
        {
          "data": {
            "image/png": "[encoded data removed]",
            "text/plain": [
              "<Figure size 432x288 with 1 Axes>"
            ]
          },
          "metadata": {},
          "output_type": "display_data"
        }
      ],
      "source": [
        "norm_output = restecg_norm.column('output')\n",
        "abnorm_output = restecg_abnorm.column('output')\n",
        "\n",
        "possible_outputs = np.append(norm_output, abnorm_output)\n",
        "\n",
        "table_outputs = Table().with_columns(\"Iteration\", make_array(), \"Value\", make_array())\n",
        "\n",
        "for i in np.arange(10000):\n",
        "  norm = np.random.choice(possible_outputs, 147)\n",
        "  abnorm = np.random.choice(possible_outputs, 156)\n",
        "  value = abs(np.average(norm) - np.average(abnorm))\n",
        "  table_outputs.append((i, value))\n",
        "\n",
        "\n",
        "table_outputs.hist(\"Value\", bins=20)\n",
        "\n",
        "observed_value = abs(np.average(norm_output) - np.average(abnorm_output))\n",
        "print(\"Observed value of the test statistic:\", observed_value)\n",
        "\n",
        "p_value = (np.average(table_outputs.column(\"Value\") > observed_value))\n",
        "print(\"p-value of test:\", p_value)"
      ]
    },
    {
      "cell_type": "markdown",
      "source": [
        "For this we would have to reject the null hypothesis. A p-value less than 1% means this is a statistically significant result. Rejecting would mean that there is a higher chance of heart attack is higher for the abnormal group"
      ],
      "metadata": {
        "id": "DEbrXqgyqpG_"
      }
    },
    {
      "cell_type": "markdown",
      "source": [
        "**Creating models**"
      ],
      "metadata": {
        "id": "k1PZ4tn2uFWR"
      }
    },
    {
      "cell_type": "markdown",
      "source": [
        "Convert variables to standard units"
      ],
      "metadata": {
        "id": "k160mDkKq7nq"
      }
    },
    {
      "cell_type": "code",
      "execution_count": null,
      "metadata": {
        "id": "SND_ODW9BfrI"
      },
      "outputs": [],
      "source": [
        "def standard_units(table, column_name):\n",
        "    table_column = table.column(column_name)\n",
        "    mean = np.mean(table_column)\n",
        "    std = np.std(table_column)\n",
        "    std_units = (table_column -mean) / std\n",
        "    return std_units"
      ]
    },
    {
      "cell_type": "markdown",
      "source": [
        "Extracted features into NumPy arrays"
      ],
      "metadata": {
        "id": "b2KHzwFErA-O"
      }
    },
    {
      "cell_type": "code",
      "execution_count": null,
      "metadata": {
        "colab": {
          "base_uri": "https://localhost:8080/"
        },
        "id": "ni8FjllZmr8a",
        "outputId": "e5741ff8-a3f6-4c1d-88e5-ff780fbb3e38"
      },
      "outputs": [
        {
          "name": "stderr",
          "output_type": "stream",
          "text": [
            "/usr/local/lib/python3.8/dist-packages/sklearn/neural_network/_multilayer_perceptron.py:692: ConvergenceWarning: Stochastic Optimizer: Maximum iterations (200) reached and the optimization hasn't converged yet.\n",
            "  warnings.warn(\n"
          ]
        },
        {
          "data": {
            "text/plain": [
              "MLPRegressor(hidden_layer_sizes=5, random_state=0)"
            ]
          },
          "execution_count": 16,
          "metadata": {},
          "output_type": "execute_result"
        }
      ],
      "source": [
        "from sklearn.neural_network import MLPRegressor\n",
        "heart_std = hearts.with_columns(\"age\", standard_units(hearts, \"age\"),\n",
        "                                   \"trtbps\", standard_units(hearts, \"trtbps\"),\n",
        "                                   \"chol\", standard_units(hearts, \"chol\"),\n",
        "                                   \"thalachh\", standard_units(hearts, \"thalachh\"),\n",
        "                                   \"oldpeak\", standard_units(hearts, \"oldpeak\"))\n",
        "\n",
        "X = heart_std.select('age', 'trtbps', 'chol', 'thalachh', 'oldpeak').values\n",
        "y = hearts.column('output')\n",
        "neural_network = MLPRegressor(hidden_layer_sizes=(5), random_state=0)\n",
        "neural_network.fit(X,y)"
      ]
    },
    {
      "cell_type": "markdown",
      "source": [
        "Train / test split of 70% to 30%"
      ],
      "metadata": {
        "id": "E9yl6wJbrwPk"
      }
    },
    {
      "cell_type": "code",
      "execution_count": null,
      "metadata": {
        "id": "tCDfp82bmr8b"
      },
      "outputs": [],
      "source": [
        "output = hearts.column('output')\n",
        "from sklearn.model_selection import train_test_split\n",
        "\n",
        "X_train, X_test, y_train, y_test = train_test_split(X, y, train_size=0.7)"
      ]
    },
    {
      "cell_type": "code",
      "execution_count": null,
      "metadata": {
        "colab": {
          "base_uri": "https://localhost:8080/"
        },
        "id": "H5pauGosmr8b",
        "outputId": "ec613d61-2d4e-40b8-e417-c210943d5f0a"
      },
      "outputs": [
        {
          "name": "stderr",
          "output_type": "stream",
          "text": [
            "/usr/local/lib/python3.8/dist-packages/sklearn/neural_network/_multilayer_perceptron.py:692: ConvergenceWarning: Stochastic Optimizer: Maximum iterations (200) reached and the optimization hasn't converged yet.\n",
            "  warnings.warn(\n"
          ]
        },
        {
          "data": {
            "text/plain": [
              "MLPClassifier(hidden_layer_sizes=5)"
            ]
          },
          "execution_count": 18,
          "metadata": {},
          "output_type": "execute_result"
        }
      ],
      "source": [
        "from sklearn.neural_network import MLPClassifier"
      ]
    },
    {
      "cell_type": "markdown",
      "source": [
        "Neural Network model with hidden layer size of 5"
      ],
      "metadata": {
        "id": "UOqrj5ctr9Yr"
      }
    },
    {
      "cell_type": "code",
      "execution_count": null,
      "metadata": {
        "colab": {
          "base_uri": "https://localhost:8080/"
        },
        "id": "1hqcnDXmmr8c",
        "outputId": "a95542e7-8336-45a5-ca0a-7ef390038d1f"
      },
      "outputs": [
        {
          "name": "stdout",
          "output_type": "stream",
          "text": [
            "Accuracy: 70.3296703297 %\n",
            "Error: 29.6703296703 %\n"
          ]
        },
        {
          "name": "stderr",
          "output_type": "stream",
          "text": [
            "/usr/local/lib/python3.8/dist-packages/sklearn/neural_network/_multilayer_perceptron.py:692: ConvergenceWarning: Stochastic Optimizer: Maximum iterations (200) reached and the optimization hasn't converged yet.\n",
            "  warnings.warn(\n"
          ]
        }
      ],
      "source": [
        "neural_network = MLPClassifier(hidden_layer_sizes=(5))\n",
        "neural_network.fit(X_train, y_train)\n",
        "y_predicted = neural_network.predict(X_test)\n",
        "accuracy = sum(y_test == y_predicted) / len(y_predicted)\n",
        "print(\"Accuracy:\", accuracy * 100, '%')\n",
        "print(\"Error:\", (1 - accuracy) * 100, \"%\")"
      ]
    },
    {
      "cell_type": "code",
      "execution_count": null,
      "metadata": {
        "colab": {
          "base_uri": "https://localhost:8080/"
        },
        "id": "JDQWmF_6mr8c",
        "outputId": "a0036eac-c412-4d44-8cb8-381672f038df"
      },
      "outputs": [
        {
          "name": "stdout",
          "output_type": "stream",
          "text": [
            "Looking in indexes: https://pypi.org/simple, https://us-python.pkg.dev/colab-wheels/public/simple/\n",
            "Requirement already satisfied: xgboost in /usr/local/lib/python3.8/dist-packages (0.90)\n",
            "Requirement already satisfied: scipy in /usr/local/lib/python3.8/dist-packages (from xgboost) (1.7.3)\n",
            "Requirement already satisfied: numpy in /usr/local/lib/python3.8/dist-packages (from xgboost) (1.21.6)\n"
          ]
        }
      ],
      "source": [
        "!pip install xgboost\n",
        "from sklearn.datasets import fetch_openml\n",
        "from sklearn.datasets import fetch_openml\n",
        "from sklearn.metrics import ConfusionMatrixDisplay\n",
        "from sklearn import datasets\n",
        "X,y = datasets.load_diabetes(return_X_y=True)\n",
        "from xgboost import XGBRegressor\n"
      ]
    },
    {
      "cell_type": "code",
      "execution_count": null,
      "metadata": {
        "id": "18R8cEdVmr8d"
      },
      "outputs": [],
      "source": [
        "y_pred = neural_network.predict(X_test)"
      ]
    },
    {
      "cell_type": "markdown",
      "source": [
        "XGBoost model"
      ],
      "metadata": {
        "id": "GxPKw0G1sPl0"
      }
    },
    {
      "cell_type": "code",
      "execution_count": null,
      "metadata": {
        "colab": {
          "base_uri": "https://localhost:8080/"
        },
        "id": "OkRtA3F0mr8d",
        "outputId": "98b6010f-01f7-47f6-e8ea-fae3e705ce85"
      },
      "outputs": [
        {
          "name": "stdout",
          "output_type": "stream",
          "text": [
            "Accuracy: 67.032967033 %\n",
            "Error: 32.967032967 %\n"
          ]
        }
      ],
      "source": [
        "from xgboost import XGBClassifier\n",
        "xgboost_model = XGBClassifier()\n",
        "xgboost_model.fit(X_train, y_train)\n",
        "y_predictxg = xgboost_model.predict(X_test)\n",
        "accuracyxg = sum(y_test == y_predictxg) / len(y_predictxg)\n",
        "print(\"Accuracy:\", accuracyxg * 100, '%')\n",
        "print(\"Error:\", (1 - accuracyxg) * 100, \"%\")"
      ]
    },
    {
      "cell_type": "markdown",
      "source": [
        "K-NN mdoel"
      ],
      "metadata": {
        "id": "UGc1BFCdsU9S"
      }
    },
    {
      "cell_type": "code",
      "execution_count": null,
      "metadata": {
        "colab": {
          "base_uri": "https://localhost:8080/"
        },
        "id": "trjOKJ4hmr8e",
        "outputId": "dbe48553-ceed-4075-98b7-401ac90daf23"
      },
      "outputs": [
        {
          "name": "stdout",
          "output_type": "stream",
          "text": [
            "Accuracy: 65.9340659341 %\n",
            "Error: 34.0659340659 %\n"
          ]
        }
      ],
      "source": [
        "from sklearn.neighbors import KNeighborsClassifier\n",
        "knn_model = KNeighborsClassifier()\n",
        "knn_model.fit(X_train, y_train)\n",
        "y_predictsk = knn_model.predict(X_test)\n",
        "accuracysk = sum(y_test == y_predictsk) / len(y_predictsk)\n",
        "print(\"Accuracy:\", accuracysk *100, '%')\n",
        "print(\"Error:\", (1 - accuracysk) * 100, \"%\")"
      ]
    },
    {
      "cell_type": "markdown",
      "source": [
        "Precision and recall metrics for each model (Key: true positive, false positive, true negative, false negative"
      ],
      "metadata": {
        "id": "mlo5ZeNNsaIW"
      }
    },
    {
      "cell_type": "code",
      "execution_count": null,
      "metadata": {
        "colab": {
          "base_uri": "https://localhost:8080/"
        },
        "id": "XQ7QXgO9vIti",
        "outputId": "5c10b0cc-ef36-4777-c8f2-09c4fd0bfb48"
      },
      "outputs": [
        {
          "name": "stdout",
          "output_type": "stream",
          "text": [
            "neural network results: 32 19 32 8\n"
          ]
        }
      ],
      "source": [
        "TP = 0\n",
        "FP = 0\n",
        "TN = 0\n",
        "FN = 0\n",
        "for i in np.arange(len(y_predicted)):\n",
        "  x = y_test[i]\n",
        "  y = y_predicted[i]\n",
        "  if x == 0 and y == 0:\n",
        "    TN = TN + 1\n",
        "  if x == 1 and y == 1:\n",
        "    TP = TP + 1\n",
        "  if x > y:\n",
        "    FN = FN + 1\n",
        "  if x < y:\n",
        "    FP = FP + 1\n",
        "print('neural network results:', TP, FP, TN, FN)"
      ]
    },
    {
      "cell_type": "code",
      "execution_count": null,
      "metadata": {
        "colab": {
          "base_uri": "https://localhost:8080/"
        },
        "id": "ejODw-_vLsvB",
        "outputId": "b1fa8837-5662-4652-d5e9-f352c2d6f034"
      },
      "outputs": [
        {
          "name": "stdout",
          "output_type": "stream",
          "text": [
            "xgboost results: 30 20 31 10\n"
          ]
        }
      ],
      "source": [
        "TP = 0\n",
        "FP = 0\n",
        "TN = 0\n",
        "FN = 0\n",
        "for i in np.arange(len(y_predictxg)):\n",
        "  x = y_test[i]\n",
        "  y = y_predictxg[i]\n",
        "  if x == 0 and y == 0:\n",
        "    TN = TN + 1\n",
        "  if x == 1 and y == 1:\n",
        "    TP = TP + 1\n",
        "  if x > y:\n",
        "    FN = FN + 1\n",
        "  if x < y:\n",
        "    FP = FP + 1\n",
        "print('xgboost results:', TP, FP, TN, FN)"
      ]
    },
    {
      "cell_type": "code",
      "execution_count": null,
      "metadata": {
        "colab": {
          "base_uri": "https://localhost:8080/"
        },
        "id": "d0kB8kxbL33n",
        "outputId": "0b0a5abf-f41d-4a7b-93b9-2a94a8db37db"
      },
      "outputs": [
        {
          "name": "stdout",
          "output_type": "stream",
          "text": [
            "knn results: 30 21 30 10\n"
          ]
        }
      ],
      "source": [
        "TP = 0\n",
        "FP = 0\n",
        "TN = 0\n",
        "FN = 0\n",
        "for i in np.arange(len(y_predictsk)):\n",
        "  x = y_test[i]\n",
        "  y = y_predictsk[i]\n",
        "  if x == 0 and y == 0:\n",
        "    TN = TN + 1\n",
        "  if x == 1 and y == 1:\n",
        "    TP = TP + 1\n",
        "  if x > y:\n",
        "    FN = FN + 1\n",
        "  if x < y:\n",
        "    FP = FP + 1\n",
        "print('knn results:', TP, FP, TN, FN)"
      ]
    },
    {
      "cell_type": "markdown",
      "source": [
        "We would like to choose the model with the highest accuracy, along with the least amount of false negatives, as they are the most dangerous because no warning with high risk creates a high chance of a heart attack. The neural network model had the highest accuracy and the lowest amount of false negatives, so that model would most likely be most successful."
      ],
      "metadata": {
        "id": "yxRsWsqXs-qO"
      }
    }
  ],
  "metadata": {
    "colab": {
      "provenance": []
    },
    "kernelspec": {
      "display_name": "Python 3 (ipykernel)",
      "language": "python",
      "name": "python3"
    },
    "language_info": {
      "codemirror_mode": {
        "name": "ipython",
        "version": 3
      },
      "file_extension": ".py",
      "mimetype": "text/x-python",
      "name": "python",
      "nbconvert_exporter": "python",
      "pygments_lexer": "ipython3",
      "version": "3.9.12"
    }
  },
  "nbformat": 4,
  "nbformat_minor": 0
}